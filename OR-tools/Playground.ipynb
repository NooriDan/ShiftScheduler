{
  "cells": [
    {
      "cell_type": "markdown",
      "metadata": {
        "id": "view-in-github",
        "colab_type": "text"
      },
      "source": [
        "<a href=\"https://colab.research.google.com/github/NooriDan/ShiftScheduler/blob/main/OR-tools/Playground.ipynb\" target=\"_parent\"><img src=\"https://colab.research.google.com/assets/colab-badge.svg\" alt=\"Open In Colab\"/></a>"
      ]
    },
    {
      "cell_type": "markdown",
      "metadata": {
        "id": "qnJjJPeGvLN3"
      },
      "source": [
        "# TA Scheduling"
      ]
    },
    {
      "cell_type": "markdown",
      "source": [
        "## Imports"
      ],
      "metadata": {
        "id": "7G7GYBbc4MIB"
      }
    },
    {
      "cell_type": "code",
      "source": [
        "!pip install ortools"
      ],
      "metadata": {
        "colab": {
          "base_uri": "https://localhost:8080/"
        },
        "id": "n8Z-9qKrwLlB",
        "outputId": "7d31586f-19b8-4e38-da70-15a973438c43"
      },
      "execution_count": 2,
      "outputs": [
        {
          "output_type": "stream",
          "name": "stdout",
          "text": [
            "Requirement already satisfied: ortools in /usr/local/lib/python3.10/dist-packages (9.11.4210)\n",
            "Requirement already satisfied: absl-py>=2.0.0 in /usr/local/lib/python3.10/dist-packages (from ortools) (2.1.0)\n",
            "Requirement already satisfied: numpy>=1.13.3 in /usr/local/lib/python3.10/dist-packages (from ortools) (1.26.4)\n",
            "Requirement already satisfied: pandas>=2.0.0 in /usr/local/lib/python3.10/dist-packages (from ortools) (2.2.2)\n",
            "Requirement already satisfied: protobuf<5.27,>=5.26.1 in /usr/local/lib/python3.10/dist-packages (from ortools) (5.26.1)\n",
            "Requirement already satisfied: immutabledict>=3.0.0 in /usr/local/lib/python3.10/dist-packages (from ortools) (4.2.1)\n",
            "Requirement already satisfied: python-dateutil>=2.8.2 in /usr/local/lib/python3.10/dist-packages (from pandas>=2.0.0->ortools) (2.8.2)\n",
            "Requirement already satisfied: pytz>=2020.1 in /usr/local/lib/python3.10/dist-packages (from pandas>=2.0.0->ortools) (2024.2)\n",
            "Requirement already satisfied: tzdata>=2022.7 in /usr/local/lib/python3.10/dist-packages (from pandas>=2.0.0->ortools) (2024.2)\n",
            "Requirement already satisfied: six>=1.5 in /usr/local/lib/python3.10/dist-packages (from python-dateutil>=2.8.2->pandas>=2.0.0->ortools) (1.17.0)\n"
          ]
        }
      ]
    },
    {
      "cell_type": "code",
      "source": [
        "from dataclasses import dataclass, field\n",
        "from typing import Annotated, List, Dict, Optional\n",
        "from datetime import datetime, time, timedelta\n",
        "import csv\n",
        "import pandas as pd\n",
        "import numpy as np\n",
        "import os\n",
        "from ortools.sat.python import cp_model\n",
        "print(\"Importing was successful\")\n"
      ],
      "metadata": {
        "colab": {
          "base_uri": "https://localhost:8080/"
        },
        "id": "FiijoDHdvnJS",
        "outputId": "4aa3c5e0-e32a-4848-df78-c2c444129f39"
      },
      "execution_count": 3,
      "outputs": [
        {
          "output_type": "stream",
          "name": "stdout",
          "text": [
            "Importing was successful\n"
          ]
        }
      ]
    },
    {
      "cell_type": "markdown",
      "metadata": {
        "id": "QJqWRGfIvLN4"
      },
      "source": [
        "## Naive Programming"
      ]
    },
    {
      "cell_type": "code",
      "execution_count": 4,
      "metadata": {
        "colab": {
          "base_uri": "https://localhost:8080/"
        },
        "id": "xk7cGph0vLN5",
        "outputId": "c97b1fe1-ce21-44ba-a06a-eeeee8da1b32"
      },
      "outputs": [
        {
          "output_type": "stream",
          "name": "stdout",
          "text": [
            "Availability Matrix:\n",
            "TA 0: [1, 0, -1, 1, 1]\n",
            "TA 1: [1, 1, 0, -1, 1]\n",
            "TA 2: [-1, 1, 1, 0, 1]\n",
            "\n",
            "TA Requirements: [2, 3, 2]\n",
            "Shift Requirements: [2, 1, 1, 1, 2]\n",
            "Added TA 0 shift requirement: 2\n",
            "Added TA 1 shift requirement: 3\n",
            "Added TA 2 shift requirement: 2\n",
            "Added shift 0 staffing requirement: 2\n",
            "Added shift 1 staffing requirement: 1\n",
            "Added shift 2 staffing requirement: 1\n",
            "Added shift 3 staffing requirement: 1\n",
            "Added shift 4 staffing requirement: 2\n",
            "TA 0 cannot work shift 2\n",
            "TA 1 cannot work shift 3\n",
            "TA 2 cannot work shift 0\n",
            "\n",
            "Feasible Solution:\n",
            "TA 0 assigned to shifts: [0, 3]\n",
            "TA 1 assigned to shifts: [0, 1, 4]\n",
            "TA 2 assigned to shifts: [2, 4]\n"
          ]
        }
      ],
      "source": [
        "def schedule_tas_debug(availability, ta_requirements, shift_requirements):\n",
        "    num_tas = len(availability)\n",
        "    num_shifts = len(availability[0])\n",
        "\n",
        "    print(\"Availability Matrix:\")\n",
        "    for i in range(num_tas):\n",
        "        print(f\"TA {i}: {availability[i]}\")\n",
        "\n",
        "    print(\"\\nTA Requirements:\", ta_requirements)\n",
        "    print(\"Shift Requirements:\", shift_requirements)\n",
        "\n",
        "    # Create the CP-SAT model\n",
        "    model = cp_model.CpModel()\n",
        "\n",
        "    # Decision variables: x[i][j] is 1 if TA i is assigned to shift j, else 0\n",
        "    x = {}\n",
        "    for i in range(num_tas):\n",
        "        for j in range(num_shifts):\n",
        "            x[i, j] = model.NewBoolVar(f'x[{i}][{j}]')\n",
        "\n",
        "    # Constraint: TAs must meet their shift requirements\n",
        "    for i in range(num_tas):\n",
        "        model.Add(sum(x[i, j] for j in range(num_shifts)) == ta_requirements[i])\n",
        "        print(f\"Added TA {i} shift requirement: {ta_requirements[i]}\")\n",
        "\n",
        "    # Constraint: Shifts must meet staffing requirements\n",
        "    for j in range(num_shifts):\n",
        "        model.Add(sum(x[i, j] for i in range(num_tas)) == shift_requirements[j])\n",
        "        print(f\"Added shift {j} staffing requirement: {shift_requirements[j]}\")\n",
        "\n",
        "    # Constraint: Respect TA availability\n",
        "    for i in range(num_tas):\n",
        "        for j in range(num_shifts):\n",
        "            if availability[i][j] == -1:  # Unavailable\n",
        "                model.Add(x[i, j] == 0)\n",
        "                print(f\"TA {i} cannot work shift {j}\")\n",
        "\n",
        "    # Objective: Maximize TA satisfaction\n",
        "    objective_terms = []\n",
        "    for i in range(num_tas):\n",
        "        for j in range(num_shifts):\n",
        "            if availability[i][j] == 1:  # Desired\n",
        "                objective_terms.append(10 * x[i, j])  # High weight for desired\n",
        "            elif availability[i][j] == 0:  # Undesired\n",
        "                objective_terms.append(-1 * x[i, j])  # Low weight for undesired\n",
        "    model.Maximize(sum(objective_terms))\n",
        "\n",
        "    # Solve the model\n",
        "    solver = cp_model.CpSolver()\n",
        "    status = solver.Solve(model)\n",
        "\n",
        "    # Extract the solution\n",
        "    if status == cp_model.OPTIMAL or status == cp_model.FEASIBLE:\n",
        "        schedule = {}\n",
        "        for i in range(num_tas):\n",
        "            schedule[i] = [j for j in range(num_shifts) if solver.Value(x[i, j]) == 1]\n",
        "        return schedule\n",
        "    else:\n",
        "        print(\"\\nNo feasible solution found. Possible reasons:\")\n",
        "        print(\"- Check if total TA shift requirements match total shift needs.\")\n",
        "        print(\"- Ensure there are enough available TAs for each shift.\")\n",
        "        print(\"- Check if constraints are overly strict.\")\n",
        "        return None\n",
        "\n",
        "# Example Input\n",
        "availability = [\n",
        "    [1, 0, -1, 1, 1],   # TA 0: Desired, Undesired, Unavailable, Desired, Desired\n",
        "    [1, 1, 0, -1, 1],   # TA 1: Desired, Desired, Undesired, Unavailable, Desired\n",
        "    [-1, 1, 1, 0, 1],   # TA 2: Unavailable, Desired, Desired, Undesired, Desired\n",
        "]\n",
        "ta_requirements = [2, 3, 2]  # TA 0: 2 shifts, TA 1: 1 shift, TA 2: 2 shifts\n",
        "shift_requirements = [2, 1, 1, 1, 2]  # Shifts: 2 TAs, 1 TA, 1 TA, 1 TA, 2 TAs\n",
        "\n",
        "# Solve\n",
        "solution = schedule_tas_debug(availability, ta_requirements, shift_requirements)\n",
        "if solution:\n",
        "    print(\"\\nFeasible Solution:\")\n",
        "    for ta, shifts in solution.items():\n",
        "        print(f\"TA {ta} assigned to shifts: {shifts}\")\n",
        "else:\n",
        "    print(\"No feasible solution found.\")\n"
      ]
    },
    {
      "cell_type": "markdown",
      "metadata": {
        "id": "_RVlh5JOvLN5"
      },
      "source": [
        "## Class-based Implementation: Scheduler"
      ]
    },
    {
      "cell_type": "markdown",
      "source": [
        "### Data classes"
      ],
      "metadata": {
        "id": "oqzRvqsp3qho"
      }
    },
    {
      "cell_type": "code",
      "source": [
        "@dataclass\n",
        "class TA:\n",
        "    id: int\n",
        "    name: str\n",
        "    req_shift_per_week: int\n",
        "    availability: List[int] = field(default_factory=list)\n",
        "    # to be planned\n",
        "    assigned_shifts: List[int] = field(default_factory=list)\n",
        "\n",
        "@dataclass\n",
        "class Shift:\n",
        "    id: int\n",
        "    name: str\n",
        "    req_ta_per_shift: int\n",
        "    series: str\n",
        "    day_of_week: str\n",
        "    date: datetime\n",
        "    start_time: time\n",
        "    duration: timedelta = timedelta(hours=3, minutes=0)\n",
        "    end_time: time = field(init=False)\n",
        "    # to be planned\n",
        "    assigned_tas: List[TA] = field(default_factory=list)\n",
        "\n",
        "    def __post_init__(self):\n",
        "        # Combine date and start_time to create a datetime object\n",
        "        start_datetime = datetime.combine(self.date, self.start_time)\n",
        "        # Calculate end_datetime by adding duration\n",
        "        end_datetime = start_datetime + self.duration\n",
        "        # Extract the time component from end_datetime\n",
        "        self.end_time = end_datetime.time()\n",
        "\n",
        "@dataclass\n",
        "class Schedule:\n",
        "    tas: List[TA] = field(default_factory=list)\n",
        "    shifts: List[Shift] = field(default_factory=list)"
      ],
      "metadata": {
        "id": "zp_gPpl93pyD"
      },
      "execution_count": 15,
      "outputs": []
    },
    {
      "cell_type": "markdown",
      "source": [
        "### Solver Logic"
      ],
      "metadata": {
        "id": "3Aw8CpyN3tbD"
      }
    },
    {
      "cell_type": "code",
      "execution_count": 24,
      "metadata": {
        "id": "4JXEABE0vLN5"
      },
      "outputs": [],
      "source": [
        "class TA_Scheduling:\n",
        "    def __init__(self, schedule):\n",
        "        self.schedule = schedule\n",
        "        # Solver configuration\n",
        "        self.model = cp_model.CpModel()\n",
        "        self.solver = cp_model.CpSolver()\n",
        "        self.solver.parameters.linearization_level = 0\n",
        "        self.solver.parameters.num_search_workers  = os.cpu_count()//2 + 1\n",
        "        self.solver.parameters.max_time_in_seconds = 5.0   # Limit to 5 seconds\n",
        "        self.solver.parameters.log_search_progress = True  # Enable logs\n",
        "        self.solver_status = None\n",
        "        # Properties to be computed\n",
        "        self.assigment_matrix = {}\n",
        "\n",
        "    def add_ta(self, ta: TA):\n",
        "        self.schedule.tas.append(ta)\n",
        "\n",
        "    def add_shift(self, shift: Shift):\n",
        "        self.schedule.shifts.append(shift)\n",
        "\n",
        "    def update_availability(self, ta_id: str, availability: List[int]):\n",
        "        ta = next((ta for ta in self.schedule.tas if ta.id == ta_id), None)\n",
        "        if ta:\n",
        "            ta.availability = availability\n",
        "        else:\n",
        "            print(f\"TA with ID {ta_id} not found.\")\n",
        "\n",
        "    def update_shift_requirements(self, shift_id: str, req_ta_per_shift: int):\n",
        "        shift = next((shift for shift in self.schedule.shifts if shift.id == shift_id), None)\n",
        "        if shift:\n",
        "            shift.req_ta_per_shift = req_ta_per_shift\n",
        "        else:\n",
        "            print(f\"Shift with ID {shift_id} not found.\")\n",
        "\n",
        "    def update_ta_requirements(self, ta_id: str, req_shift_per_week: int):\n",
        "        ta = next((ta for ta in self.schedule.tas if ta.id == ta_id), None)\n",
        "        if ta:\n",
        "            ta.req_shift_per_week = req_shift_per_week\n",
        "        else:\n",
        "            print(f\"TA with ID {ta_id} not found.\")\n",
        "\n",
        "    # 1 - Create Desicion Variables\n",
        "    def create_decision_variables(self):\n",
        "        for ta in self.schedule.tas:\n",
        "            for shift in self.schedule.shifts:\n",
        "                self.assigment_matrix[(ta.id, shift.id)] = self.model.NewBoolVar(f'availability_{ta.id}_{shift.id}')\n",
        "\n",
        "    # 2 - Constraint Definitions\n",
        "    # (2.1) TAs must meet their shift requirements\n",
        "    def tas_meet_shift_requirements(self):\n",
        "        for ta in self.schedule.tas:\n",
        "            self.model.Add(sum(self.assigment_matrix[(ta.id, shift.id)] for shift in self.schedule.shifts) >= ta.req_shift_per_week)\n",
        "\n",
        "    # (2.2) Shifts must meet staffing requirements\n",
        "    def shifts_meet_staffing_requirements(self):\n",
        "        for shift in self.schedule.shifts:\n",
        "            self.model.Add(sum(self.assigment_matrix[(ta.id, shift.id)] for ta in self.schedule.tas) == shift.req_ta_per_shift)\n",
        "\n",
        "    # (2.3) Respect TA availability\n",
        "    def respect_ta_availability(self):\n",
        "      for ta in self.schedule.tas:\n",
        "        for shift in self.schedule.shifts:\n",
        "          if ta.availability[shift.id] == -1:  # Unavailable\n",
        "            self.model.Add(self.assigment_matrix[(ta.id, shift.id)] == 0)\n",
        "\n",
        "    # 3 - Define Objective function\n",
        "    def objective_function(self):\n",
        "        objective_terms = []\n",
        "        for ta in self.schedule.tas:\n",
        "            for shift in self.schedule.shifts:\n",
        "                if ta.availability[shift.id] == 1:\n",
        "                    objective_terms.append(10 * self.assigment_matrix[(ta.id, shift.id)])\n",
        "                elif ta.availability[shift.id] == 0:\n",
        "                    objective_terms.append(-1 * self.assigment_matrix[(ta.id, shift.id)])\n",
        "        self.model.Maximize(sum(objective_terms))\n",
        "\n",
        "    # Put everything together\n",
        "    def solve(self):\n",
        "        self.create_decision_variables()\n",
        "        # Apply constraints\n",
        "        self.tas_meet_shift_requirements()\n",
        "        self.shifts_meet_staffing_requirements()\n",
        "        self.respect_ta_availability()\n",
        "        # Optional Objective function\n",
        "        self.objective_function()\n",
        "\n",
        "        self.status = self.solver.Solve(self.model)\n",
        "\n",
        "        if self.status == cp_model.OPTIMAL or self.status == cp_model.FEASIBLE:\n",
        "            print(\"\\nFeasible Solution:\")\n",
        "            for ta in self.schedule.tas:\n",
        "                ta_shifts_str = [f\"{shift.series}_{shift.id}\" for shift in self.schedule.shifts if self.solver.Value(self.assigment_matrix[(ta.id, shift.id)]) == 1]\n",
        "                print(f\"TA {ta.id} requires {ta.req_shift_per_week} given {len(ta_shifts_str)}: {ta_shifts_str}\")\n",
        "                # Update TA and Shift objects\n",
        "                for shift in self.schedule.shifts:\n",
        "                    if self.solver.Value(self.assigment_matrix[(ta.id, shift.id)]) == 1:\n",
        "                        ta.assigned_shifts.append(shift)\n",
        "                        shift.assigned_tas.append(ta)\n",
        "        else:\n",
        "            print(\"\\nNo feasible solution found. Possible reasons:\")\n",
        "            print(\"- Check if total TA shift requirements match total shift needs.\")\n",
        "            print(\"- Ensure there are enough available TAs for each shift.\")\n",
        "            print(\"- Check if constraints are overly strict.\")\n",
        "\n",
        "        return self.status\n",
        "\n",
        "    # Reporting Utils\n",
        "    def group_shifts_by_day_of_week(self):\n",
        "        workday_shifts = {}\n",
        "        for shift in self.schedule.shifts:\n",
        "            if shift.day_of_week not in workday_shifts:\n",
        "                workday_shifts[shift.day_of_week] = []\n",
        "            workday_shifts[shift.day_of_week].append(shift)\n",
        "\n",
        "        # Sort shifts for each workday based on start_time\n",
        "        for day in workday_shifts:\n",
        "            workday_shifts[day] = sorted(workday_shifts[day], key=lambda s: s.start_time)\n",
        "        return workday_shifts\n",
        "\n",
        "    def report(self, filename='ta_schedule_report.csv'):\n",
        "        # Step 1: Group shifts by day_of_week and sort them by start_time\n",
        "        workday_shifts = self.group_shifts_by_day_of_week()\n",
        "\n",
        "        # Step 2: Prepare the header for the CSV file\n",
        "        days_of_week = ['Monday', 'Tuesday', 'Wednesday', 'Thursday', 'Friday']\n",
        "        header = ['Shift/TA'] + days_of_week  # First column will be shift names, rest are days\n",
        "\n",
        "        # Step 3: Determine the max number of rows across all workdays\n",
        "        max_rows = max(len(shifts) for shifts in workday_shifts.values())  # Find the max number of shifts per day\n",
        "\n",
        "        # Step 4: Open the CSV file for writing\n",
        "        with open(filename, mode='w', newline='') as file:\n",
        "            writer = csv.writer(file)\n",
        "\n",
        "            # Step 5: Write the header row to the CSV\n",
        "            writer.writerow(header)\n",
        "\n",
        "            # Step 6: Write the shift rows\n",
        "            for row_index in range(max_rows):\n",
        "                row = ['']  # The first column is for shift names (e.g., Lab_0_0)\n",
        "                for day in days_of_week:\n",
        "                    shifts = workday_shifts.get(day, [])\n",
        "                    if row_index < len(shifts):\n",
        "                        shift = shifts[row_index]\n",
        "                        # Collect assigned TAs for this shift\n",
        "                        assigned_tas = [f\"{ta.id}_{ta.name}\" for ta in shift.assigned_tas]\n",
        "                        # Prepare the cell content with shift name and assigned TAs\n",
        "                        cell_content = f\"{shift.series}_{shift.id}\\n\" + \"\\n\".join(assigned_tas) if assigned_tas else f\"{shift.series}_{shift.id}\\nNo TAs assigned\"\n",
        "                    else:\n",
        "                        cell_content = \"\"  # Empty cell if no shift for this row\n",
        "                    row.append(cell_content)\n",
        "\n",
        "                # Step 7: Write the row to the CSV\n",
        "                writer.writerow(row)\n",
        "\n",
        "        print(f\"Report has been saved to {filename}\")\n",
        "\n",
        "    def report_timeseries(self, filename='ta_schedule_report_timeseries.csv'):\n",
        "        # Step 1: Extract and sort the shifts based on start time\n",
        "        shifts_sorted_by_start_time = sorted(self.schedule.shifts, key=lambda s: s.start_time)\n",
        "\n",
        "        # Step 2: Prepare the header for the CSV file using the start time of each shift\n",
        "        header = ['TA Name/ID']  # First column will be TA names and IDs\n",
        "        for shift in shifts_sorted_by_start_time:\n",
        "            # Format date and time as a string (assumes shift has a start_time field)\n",
        "            date_combined  = datetime.combine(shift.date, shift.start_time)\n",
        "            start_time_str = date_combined.strftime('%Y-%m-%d %H:%M')\n",
        "            header.append(start_time_str)\n",
        "\n",
        "        # Step 3: Determine the max number of rows (based on the most TAs assigned to a shift)\n",
        "        max_rows = max(len(shift.assigned_tas) for shift in self.schedule.shifts)  # Find max number of TAs per shift\n",
        "\n",
        "        # Step 4: Open the CSV file for writing\n",
        "        with open(filename, mode='w', newline='') as file:\n",
        "            writer = csv.writer(file)\n",
        "\n",
        "            # Step 5: Write the header row to the CSV\n",
        "            writer.writerow(header)\n",
        "\n",
        "            # Step 6: Write the rows for assigned TAs\n",
        "            for row_index in range(max_rows):\n",
        "                row = ['']  # The first column is for TA names and IDs\n",
        "                for shift in shifts_sorted_by_start_time:\n",
        "                    # Collect assigned TAs for this shift\n",
        "                    assigned_tas = [f\"{ta.id} - {ta.name}\" for ta in shift.assigned_tas]\n",
        "\n",
        "                    # Prepare the cell content with TA name and ID, if available\n",
        "                    if row_index < len(assigned_tas):\n",
        "                        # Only show one TA per row in the corresponding shift column\n",
        "                        cell_content = assigned_tas[row_index]\n",
        "                    else:\n",
        "                        cell_content = \"\"  # Empty cell if no TA is assigned to this row for the shift\n",
        "                    row.append(cell_content)\n",
        "\n",
        "                # Step 7: Write the row to the CSV\n",
        "                writer.writerow(row)\n",
        "\n",
        "        print(f\"Report has been saved to {filename}\")\n"
      ]
    },
    {
      "cell_type": "markdown",
      "source": [
        "### Testing"
      ],
      "metadata": {
        "id": "B4tfqr4n2C45"
      }
    },
    {
      "cell_type": "code",
      "source": [
        "# Testing the class definitions above\n",
        "\n",
        "shift1 = Shift(id= 0, name='Morning Shift',    series='Lab', day_of_week='Monday',    date=datetime(2024, 12, 12), start_time=time(14, 30), req_ta_per_shift = 2)\n",
        "shift2 = Shift(id= 1, name='Afternoon Shift',  series='Lab', day_of_week='Tuesday',   date=datetime(2024, 12, 13), start_time=time(14, 30), req_ta_per_shift = 1)\n",
        "shift3 = Shift(id= 2, name='Evening Shift',    series='Lab', day_of_week='Wednesday', date=datetime(2024, 12, 14), start_time=time(18, 30), req_ta_per_shift = 2)\n",
        "shift4 = Shift(id= 3, name='Night Shift',      series='Tut', day_of_week='Thursday',  date=datetime(2024, 12, 15), start_time=time(18, 30), req_ta_per_shift = 1)\n",
        "shift5 = Shift(id= 4, name='Late Night Shift', series='Tut', day_of_week='Friday',    date=datetime(2024, 12, 16), start_time=time(18, 30), req_ta_per_shift = 2)\n",
        "\n",
        "ta1 = TA(id= 0, name='John Doe',       req_shift_per_week=1)\n",
        "ta2 = TA(id= 1, name='Jane Smith',     req_shift_per_week=2)\n",
        "ta3 = TA(id= 2, name='Alice Johnson',  req_shift_per_week=1)\n",
        "ta4 = TA(id= 3, name='Bob Brown',      req_shift_per_week=2)\n",
        "\n",
        "schedule = Schedule()\n",
        "schedule.tas = [ta1, ta2, ta3, ta4]\n",
        "schedule.shifts = [shift1, shift2, shift3, shift4, shift5]\n",
        "\n",
        "ta_scheduling = TA_Scheduling(schedule)"
      ],
      "metadata": {
        "id": "c8k-E8Eh2BtL"
      },
      "execution_count": 25,
      "outputs": []
    },
    {
      "cell_type": "code",
      "source": [
        "ta_scheduling.update_availability(ta_id= 0, availability=[1, 1, 0, 1,  -1])\n",
        "ta_scheduling.update_availability(ta_id= 1, availability=[1, 0, 0, 0,  1])\n",
        "ta_scheduling.update_availability(ta_id= 2, availability=[1, 0, 0, 0,  1])\n",
        "ta_scheduling.update_availability(ta_id= 3, availability=[1, 0, 0, 1, -1])"
      ],
      "metadata": {
        "id": "9uYeH2nE_uMn"
      },
      "execution_count": 26,
      "outputs": []
    },
    {
      "cell_type": "code",
      "source": [
        "status = ta_scheduling.solve()"
      ],
      "metadata": {
        "colab": {
          "base_uri": "https://localhost:8080/"
        },
        "id": "fiixctY6CK-G",
        "outputId": "9bba0c92-4ced-4c40-8cae-fad6f50d5de6"
      },
      "execution_count": 27,
      "outputs": [
        {
          "output_type": "stream",
          "name": "stdout",
          "text": [
            "\n",
            "Feasible Solution:\n",
            "TA 0 requires 1 given 3: ['Lab_0', 'Lab_1', 'Tut_3']\n",
            "TA 1 requires 2 given 2: ['Lab_2', 'Tut_4']\n",
            "TA 2 requires 1 given 1: ['Tut_4']\n",
            "TA 3 requires 2 given 2: ['Lab_0', 'Lab_2']\n"
          ]
        }
      ]
    },
    {
      "cell_type": "code",
      "source": [
        "ta_scheduling.report()"
      ],
      "metadata": {
        "colab": {
          "base_uri": "https://localhost:8080/"
        },
        "id": "Ii6gQa-DIwj2",
        "outputId": "dd093278-0a50-49a4-fe9a-a08197a92c11"
      },
      "execution_count": 28,
      "outputs": [
        {
          "output_type": "stream",
          "name": "stdout",
          "text": [
            "Report has been saved to ta_schedule_report.csv\n"
          ]
        }
      ]
    },
    {
      "cell_type": "code",
      "source": [
        "ta_scheduling.report_timeseries()"
      ],
      "metadata": {
        "id": "78ulB4WmPiXo",
        "outputId": "30860e35-d14a-4f65-cc6a-3d909f80e0e5",
        "colab": {
          "base_uri": "https://localhost:8080/"
        }
      },
      "execution_count": 29,
      "outputs": [
        {
          "output_type": "stream",
          "name": "stdout",
          "text": [
            "Report has been saved to ta_schedule_report_timeseries.csv\n"
          ]
        }
      ]
    },
    {
      "cell_type": "markdown",
      "source": [
        "## Class-based Data Constructors\n",
        "Constructs TA, and Shift objects from CSV files."
      ],
      "metadata": {
        "id": "WhSESIhF39M9"
      }
    },
    {
      "cell_type": "code",
      "source": [
        "# TODO\n",
        "class Data_Constructor:\n",
        "    def __init__(self, ta_csv_path, shift_csv_path, availability_folder):\n",
        "        self.ta_csv_path = ta_csv_path\n",
        "        self.shift_csv_path = shift_csv_path\n",
        "        self.availability_folder = availability_folder\n",
        "        # Data holders\n",
        "        self.schedule = Schedule()\n",
        "        self.ta_data    = None  # Placeholder for TA data\n",
        "        self.shift_data = None  # Placeholder for Shift data\n",
        "        # Construction routine\n",
        "        self.load_data()\n",
        "        self.validate_data()\n",
        "        self.create_ta_objects()\n",
        "        self.create_shift_objects()\n",
        "        self.load_availabilities()\n",
        "\n",
        "\n",
        "    def load_data(self):\n",
        "        self.ta_data = pd.read_csv(self.ta_csv_path)\n",
        "        self.shift_data = pd.read_csv(self.shift_csv_path)\n",
        "\n",
        "    def create_ta_objects(self):\n",
        "        for index, row in self.ta_data.iterrows():\n",
        "            ta = TA(\n",
        "                id=row['id'],\n",
        "                name=row['name'],\n",
        "                req_shift_per_week=row['req_shift_per_week']\n",
        "            )\n",
        "            self.schedule.tas.append(ta)\n",
        "\n",
        "    def create_shift_objects(self):\n",
        "        for index, row in self.shift_data.iterrows():\n",
        "            shift = Shift(\n",
        "                id=row['id'],\n",
        "                name=row['name'],\n",
        "                series=row['series'],\n",
        "                day_of_week=row['day_of_week'],\n",
        "                start_time=datetime.strptime(row['start_time'], '%H:%M').time(),\n",
        "                end_time=datetime.strptime(row['end_time'], '%H:%M').time(),\n",
        "                req_ta_per_shift=row['req_ta_per_shift']\n",
        "            )\n",
        "            self.schedule.shifts.append(shift)\n",
        "\n",
        "    # Data validation\n",
        "    def validate_data(self):\n",
        "        return (self.validate_ta_availability() and self.validate_total_availability())\n",
        "\n",
        "    def validate_ta_availability(self):\n",
        "        for ta in self.schedule.tas:\n",
        "            count_available = sum(1 for availability in ta.availability if availability != -1)\n",
        "            if count_available < ta.req_shift_per_week:\n",
        "                print(f\"TA {ta.id} has insufficient availability.\")\n",
        "                print(f\"Available shifts: {count_available}\")\n",
        "                print(f\"Required shifts: {ta.req_shift_per_week}\")\n",
        "                return False\n",
        "        return True\n",
        "\n",
        "    def validate_total_availability(self):\n",
        "        total = 0\n",
        "        for ta in self.schedule.tas:\n",
        "            count_available = sum(1 for availability in ta.availability if availability != -1)\n",
        "            total += count_available\n",
        "        return total >= sum(ta.req_shift_per_week for ta in self.schedule.tas)\n"
      ],
      "metadata": {
        "id": "4tBcTsml4H2d"
      },
      "execution_count": null,
      "outputs": []
    },
    {
      "cell_type": "markdown",
      "metadata": {
        "id": "8j73m8i2vLN5"
      },
      "source": [
        "# General Optimization Practice"
      ]
    },
    {
      "cell_type": "markdown",
      "metadata": {
        "id": "D6bG8rsMvLN5"
      },
      "source": [
        "## CP-SAT - Nurse Scheduling"
      ]
    },
    {
      "cell_type": "code",
      "execution_count": null,
      "metadata": {
        "id": "WNT3mTJEvLN5"
      },
      "outputs": [],
      "source": [
        "from ortools.sat.python import cp_model"
      ]
    },
    {
      "cell_type": "markdown",
      "metadata": {
        "id": "p-26d_0OvLN5"
      },
      "source": [
        "### Data Creation"
      ]
    },
    {
      "cell_type": "code",
      "execution_count": null,
      "metadata": {
        "id": "eSaaWnCgvLN5"
      },
      "outputs": [],
      "source": [
        "num_nurses = 4\n",
        "num_shifts = 3\n",
        "num_days = 3\n",
        "all_nurses = range(num_nurses)\n",
        "all_shifts = range(num_shifts)\n",
        "all_days = range(num_days)"
      ]
    },
    {
      "cell_type": "markdown",
      "metadata": {
        "id": "nng6XFIvvLN5"
      },
      "source": [
        "### Create the model"
      ]
    },
    {
      "cell_type": "code",
      "execution_count": null,
      "metadata": {
        "id": "4zzeLDx1vLN6"
      },
      "outputs": [],
      "source": [
        "model = cp_model.CpModel()"
      ]
    },
    {
      "cell_type": "markdown",
      "metadata": {
        "id": "MwpSt7PrvLN6"
      },
      "source": [
        "### Create the variables\n",
        "The array defines assignments for shifts to nurses as follows: shifts[(n, d, s)] equals 1 if shift s is assigned to nurse n on day d, and 0 otherwise."
      ]
    },
    {
      "cell_type": "code",
      "execution_count": null,
      "metadata": {
        "id": "yVvoYEkgvLN6"
      },
      "outputs": [],
      "source": [
        "shifts = {}\n",
        "for n in all_nurses:\n",
        "    for d in all_days:\n",
        "        for s in all_shifts:\n",
        "            shifts[(n, d, s)] = model.new_bool_var(f\"shift_n{n}_d{d}_s{s}\")"
      ]
    },
    {
      "cell_type": "markdown",
      "metadata": {
        "id": "2PXONgA9vLN6"
      },
      "source": [
        "### Code the constraints\n",
        "Next, we show how to assign nurses to shifts subject to the following constraints:\n",
        "\n",
        "Each shift is assigned to a single nurse per day.\n",
        "Each nurse works at most one shift per day.\n",
        "\n",
        "Here's the code that creates the first condition"
      ]
    },
    {
      "cell_type": "code",
      "execution_count": null,
      "metadata": {
        "id": "-xwvCIhAvLN6"
      },
      "outputs": [],
      "source": [
        "for d in all_days:\n",
        "    for s in all_shifts:\n",
        "        model.add_exactly_one(shifts[(n, d, s)] for n in all_nurses)"
      ]
    },
    {
      "cell_type": "markdown",
      "metadata": {
        "id": "yGjiqicXvLN6"
      },
      "source": [
        "The last line says that for each shift, the sum of the nurses assigned to that shift is 1.\n",
        "\n",
        "Next, here's the code that requires that each nurse works at most one shift per day."
      ]
    },
    {
      "cell_type": "code",
      "execution_count": null,
      "metadata": {
        "id": "IVOJW7fCvLN6"
      },
      "outputs": [],
      "source": [
        "for n in all_nurses:\n",
        "    for d in all_days:\n",
        "        model.add_at_most_one(shifts[(n, d, s)] for s in all_shifts)"
      ]
    },
    {
      "cell_type": "markdown",
      "metadata": {
        "id": "_KyK3Z00vLN6"
      },
      "source": [
        "For each nurse, the sum of shifts assigned to that nurse is at most 1 (\"at most\" because a nurse might have the day off)."
      ]
    },
    {
      "cell_type": "markdown",
      "metadata": {
        "id": "L_aEKxGuvLN6"
      },
      "source": [
        "**Assign shifts evenly**"
      ]
    },
    {
      "cell_type": "code",
      "execution_count": null,
      "metadata": {
        "id": "L5fX71J2vLN6"
      },
      "outputs": [],
      "source": [
        "# Try to distribute the shifts evenly, so that each nurse works\n",
        "# min_shifts_per_nurse shifts. If this is not possible, because the total\n",
        "# number of shifts is not divisible by the number of nurses, some nurses will\n",
        "# be assigned one more shift.\n",
        "min_shifts_per_nurse = (num_shifts * num_days) // num_nurses\n",
        "if num_shifts * num_days % num_nurses == 0:\n",
        "    max_shifts_per_nurse = min_shifts_per_nurse\n",
        "else:\n",
        "    max_shifts_per_nurse = min_shifts_per_nurse + 1\n",
        "for n in all_nurses:\n",
        "    shifts_worked = []\n",
        "    for d in all_days:\n",
        "        for s in all_shifts:\n",
        "            shifts_worked.append(shifts[(n, d, s)])\n",
        "    model.add(min_shifts_per_nurse <= sum(shifts_worked))\n",
        "    model.add(sum(shifts_worked) <= max_shifts_per_nurse)"
      ]
    },
    {
      "cell_type": "markdown",
      "metadata": {
        "id": "UjPrAtk0vLN6"
      },
      "source": [
        "Since there are num_shifts * num_days total shifts in the schedule period, you can assign at least (num_shifts * num_days) // num_nurses\n",
        "\n",
        "shifts to each nurse, but some shifts may be left over. (Here // is the Python integer division operator, which returns the floor of the usual quotient.)\n",
        "\n",
        "For the given values of num_nurses = 4, num_shifts = 3, and num_days = 3, the expression min_shifts_per_nurse has the value (3 * 3 // 4) = 2, so you can assign at least two shifts to each nurse. This is specified by the constraint (here in Python)"
      ]
    },
    {
      "cell_type": "code",
      "execution_count": null,
      "metadata": {
        "id": "s6svuBQYvLN6"
      },
      "outputs": [],
      "source": [
        "model.add(min_shifts_per_nurse <= sum(shifts_worked))"
      ]
    },
    {
      "cell_type": "markdown",
      "metadata": {
        "id": "0D_JXNiovLN6"
      },
      "source": [
        "Since there are nine total shifts over the three-day period, there is one remaining shift after assigning two shifts to each nurse. The extra shift can be assigned to any nurse.\n",
        "\n",
        "The final line (here in Python)"
      ]
    },
    {
      "cell_type": "code",
      "execution_count": null,
      "metadata": {
        "id": "aug-2FlzvLN6"
      },
      "outputs": [],
      "source": [
        "model.add(sum(shifts_worked) <= max_shifts_per_nurse)"
      ]
    },
    {
      "cell_type": "markdown",
      "metadata": {
        "id": "1OMuXVF6vLN6"
      },
      "source": [
        "### Update solver parameters"
      ]
    },
    {
      "cell_type": "code",
      "execution_count": null,
      "metadata": {
        "id": "D7MJxWIuvLN6"
      },
      "outputs": [],
      "source": [
        "solver = cp_model.CpSolver()\n",
        "solver.parameters.linearization_level = 0\n",
        "# Enumerate all solutions.\n",
        "solver.parameters.enumerate_all_solutions = True"
      ]
    },
    {
      "cell_type": "markdown",
      "metadata": {
        "id": "rCMuukhYvLN6"
      },
      "source": [
        "### Register a callback function\n",
        "You need to register a callback on the solver that will be called at each solution. (kind of optional)"
      ]
    },
    {
      "cell_type": "code",
      "execution_count": null,
      "metadata": {
        "id": "ID8W2y97vLN6"
      },
      "outputs": [],
      "source": [
        "class NursesPartialSolutionPrinter(cp_model.CpSolverSolutionCallback):\n",
        "    \"\"\"Print intermediate solutions.\"\"\"\n",
        "\n",
        "    def __init__(self, shifts, num_nurses, num_days, num_shifts, limit):\n",
        "        cp_model.CpSolverSolutionCallback.__init__(self)\n",
        "        self._shifts = shifts\n",
        "        self._num_nurses = num_nurses\n",
        "        self._num_days = num_days\n",
        "        self._num_shifts = num_shifts\n",
        "        self._solution_count = 0\n",
        "        self._solution_limit = limit\n",
        "\n",
        "    def on_solution_callback(self):\n",
        "        self._solution_count += 1\n",
        "        print(f\"Solution {self._solution_count}\")\n",
        "        for d in range(self._num_days):\n",
        "            print(f\"Day {d}\")\n",
        "            for n in range(self._num_nurses):\n",
        "                is_working = False\n",
        "                for s in range(self._num_shifts):\n",
        "                    if self.value(self._shifts[(n, d, s)]):\n",
        "                        is_working = True\n",
        "                        print(f\"  Nurse {n} works shift {s}\")\n",
        "                if not is_working:\n",
        "                    print(f\"  Nurse {n} does not work\")\n",
        "        if self._solution_count >= self._solution_limit:\n",
        "            print(f\"Stop search after {self._solution_limit} solutions\")\n",
        "            self.stop_search()\n",
        "\n",
        "    def solutionCount(self):\n",
        "        return self._solution_count\n",
        "\n",
        "# Display the first five solutions.\n",
        "solution_limit = 5\n",
        "solution_printer = NursesPartialSolutionPrinter(\n",
        "    shifts, num_nurses, num_days, num_shifts, solution_limit\n",
        ")"
      ]
    },
    {
      "cell_type": "markdown",
      "metadata": {
        "id": "5hI8k0BSvLN6"
      },
      "source": [
        "### Invoke the solver"
      ]
    },
    {
      "cell_type": "code",
      "execution_count": null,
      "metadata": {
        "id": "bwmAd1p3vLN6"
      },
      "outputs": [],
      "source": [
        "solver.solve(model, solution_printer)"
      ]
    },
    {
      "cell_type": "markdown",
      "metadata": {
        "id": "aQKWBzGwvLN6"
      },
      "source": [
        "### Entire nurse scheduling program"
      ]
    },
    {
      "cell_type": "code",
      "execution_count": null,
      "metadata": {
        "id": "U2VJyPD9vLN6",
        "outputId": "de050b77-269c-4639-9bc0-ccbfdb7f8c20"
      },
      "outputs": [
        {
          "name": "stdout",
          "output_type": "stream",
          "text": [
            "Solution 1\n",
            "Day 0\n",
            "  Nurse 0 does not work\n",
            "  Nurse 1 works shift 0\n",
            "  Nurse 2 works shift 1\n",
            "  Nurse 3 works shift 2\n",
            "Day 1\n",
            "  Nurse 0 works shift 2\n",
            "  Nurse 1 does not work\n",
            "  Nurse 2 works shift 1\n",
            "  Nurse 3 works shift 0\n",
            "Day 2\n",
            "  Nurse 0 works shift 2\n",
            "  Nurse 1 works shift 1\n",
            "  Nurse 2 works shift 0\n",
            "  Nurse 3 does not work\n",
            "Solution 2\n",
            "Day 0\n",
            "  Nurse 0 works shift 0\n",
            "  Nurse 1 does not work\n",
            "  Nurse 2 works shift 1\n",
            "  Nurse 3 works shift 2\n",
            "Day 1\n",
            "  Nurse 0 does not work\n",
            "  Nurse 1 works shift 2\n",
            "  Nurse 2 works shift 1\n",
            "  Nurse 3 works shift 0\n",
            "Day 2\n",
            "  Nurse 0 works shift 2\n",
            "  Nurse 1 works shift 1\n",
            "  Nurse 2 works shift 0\n",
            "  Nurse 3 does not work\n",
            "Solution 3\n",
            "Day 0\n",
            "  Nurse 0 works shift 0\n",
            "  Nurse 1 does not work\n",
            "  Nurse 2 works shift 1\n",
            "  Nurse 3 works shift 2\n",
            "Day 1\n",
            "  Nurse 0 works shift 1\n",
            "  Nurse 1 works shift 2\n",
            "  Nurse 2 does not work\n",
            "  Nurse 3 works shift 0\n",
            "Day 2\n",
            "  Nurse 0 works shift 2\n",
            "  Nurse 1 works shift 1\n",
            "  Nurse 2 works shift 0\n",
            "  Nurse 3 does not work\n",
            "Solution 4\n",
            "Day 0\n",
            "  Nurse 0 works shift 0\n",
            "  Nurse 1 does not work\n",
            "  Nurse 2 works shift 1\n",
            "  Nurse 3 works shift 2\n",
            "Day 1\n",
            "  Nurse 0 works shift 2\n",
            "  Nurse 1 works shift 1\n",
            "  Nurse 2 does not work\n",
            "  Nurse 3 works shift 0\n",
            "Day 2\n",
            "  Nurse 0 works shift 2\n",
            "  Nurse 1 works shift 1\n",
            "  Nurse 2 works shift 0\n",
            "  Nurse 3 does not work\n",
            "Solution 5\n",
            "Day 0\n",
            "  Nurse 0 does not work\n",
            "  Nurse 1 works shift 0\n",
            "  Nurse 2 works shift 1\n",
            "  Nurse 3 works shift 2\n",
            "Day 1\n",
            "  Nurse 0 works shift 2\n",
            "  Nurse 1 works shift 1\n",
            "  Nurse 2 does not work\n",
            "  Nurse 3 works shift 0\n",
            "Day 2\n",
            "  Nurse 0 works shift 2\n",
            "  Nurse 1 works shift 1\n",
            "  Nurse 2 works shift 0\n",
            "  Nurse 3 does not work\n",
            "Stop search after 5 solutions\n",
            "\n",
            "Statistics\n",
            "  - conflicts      : 5\n",
            "  - branches       : 358\n",
            "  - wall time      : 0.018274000000000002 s\n",
            "  - solutions found: 5\n"
          ]
        }
      ],
      "source": [
        "\"\"\"Example of a simple nurse scheduling problem.\"\"\"\n",
        "from ortools.sat.python import cp_model\n",
        "\n",
        "\n",
        "def main() -> None:\n",
        "    # Data.\n",
        "    num_nurses = 4\n",
        "    num_shifts = 3\n",
        "    num_days = 3\n",
        "    all_nurses = range(num_nurses)\n",
        "    all_shifts = range(num_shifts)\n",
        "    all_days = range(num_days)\n",
        "\n",
        "    # Creates the model.\n",
        "    model = cp_model.CpModel()\n",
        "\n",
        "    # Creates shift variables.\n",
        "    # shifts[(n, d, s)]: nurse 'n' works shift 's' on day 'd'.\n",
        "    shifts = {}\n",
        "    for n in all_nurses:\n",
        "        for d in all_days:\n",
        "            for s in all_shifts:\n",
        "                shifts[(n, d, s)] = model.new_bool_var(f\"shift_n{n}_d{d}_s{s}\")\n",
        "\n",
        "    # Each shift is assigned to exactly one nurse in the schedule period.\n",
        "    for d in all_days:\n",
        "        for s in all_shifts:\n",
        "            model.add_exactly_one(shifts[(n, d, s)] for n in all_nurses)\n",
        "\n",
        "    # Each nurse works at most one shift per day.\n",
        "    for n in all_nurses:\n",
        "        for d in all_days:\n",
        "            model.add_at_most_one(shifts[(n, d, s)] for s in all_shifts)\n",
        "\n",
        "    # Try to distribute the shifts evenly, so that each nurse works\n",
        "    # min_shifts_per_nurse shifts. If this is not possible, because the total\n",
        "    # number of shifts is not divisible by the number of nurses, some nurses will\n",
        "    # be assigned one more shift.\n",
        "    min_shifts_per_nurse = (num_shifts * num_days) // num_nurses\n",
        "    if num_shifts * num_days % num_nurses == 0:\n",
        "        max_shifts_per_nurse = min_shifts_per_nurse\n",
        "    else:\n",
        "        max_shifts_per_nurse = min_shifts_per_nurse + 1\n",
        "    for n in all_nurses:\n",
        "        shifts_worked = []\n",
        "        for d in all_days:\n",
        "            for s in all_shifts:\n",
        "                shifts_worked.append(shifts[(n, d, s)])\n",
        "        model.add(min_shifts_per_nurse <= sum(shifts_worked))\n",
        "        model.add(sum(shifts_worked) <= max_shifts_per_nurse)\n",
        "\n",
        "    # Creates the solver and solve.\n",
        "    solver = cp_model.CpSolver()\n",
        "    solver.parameters.linearization_level = 0\n",
        "    # Enumerate all solutions.\n",
        "    solver.parameters.enumerate_all_solutions = True\n",
        "\n",
        "    class NursesPartialSolutionPrinter(cp_model.CpSolverSolutionCallback):\n",
        "        \"\"\"Print intermediate solutions.\"\"\"\n",
        "\n",
        "        def __init__(self, shifts, num_nurses, num_days, num_shifts, limit):\n",
        "            cp_model.CpSolverSolutionCallback.__init__(self)\n",
        "            self._shifts = shifts\n",
        "            self._num_nurses = num_nurses\n",
        "            self._num_days = num_days\n",
        "            self._num_shifts = num_shifts\n",
        "            self._solution_count = 0\n",
        "            self._solution_limit = limit\n",
        "\n",
        "        def on_solution_callback(self):\n",
        "            self._solution_count += 1\n",
        "            print(f\"Solution {self._solution_count}\")\n",
        "            for d in range(self._num_days):\n",
        "                print(f\"Day {d}\")\n",
        "                for n in range(self._num_nurses):\n",
        "                    is_working = False\n",
        "                    for s in range(self._num_shifts):\n",
        "                        if self.value(self._shifts[(n, d, s)]):\n",
        "                            is_working = True\n",
        "                            print(f\"  Nurse {n} works shift {s}\")\n",
        "                    if not is_working:\n",
        "                        print(f\"  Nurse {n} does not work\")\n",
        "            if self._solution_count >= self._solution_limit:\n",
        "                print(f\"Stop search after {self._solution_limit} solutions\")\n",
        "                self.stop_search()\n",
        "\n",
        "        def solutionCount(self):\n",
        "            return self._solution_count\n",
        "\n",
        "    # Display the first five solutions.\n",
        "    solution_limit = 5\n",
        "    solution_printer = NursesPartialSolutionPrinter(\n",
        "        shifts, num_nurses, num_days, num_shifts, solution_limit\n",
        "    )\n",
        "\n",
        "    solver.solve(model, solution_printer)\n",
        "\n",
        "    # Statistics.\n",
        "    print(\"\\nStatistics\")\n",
        "    print(f\"  - conflicts      : {solver.num_conflicts}\")\n",
        "    print(f\"  - branches       : {solver.num_branches}\")\n",
        "    print(f\"  - wall time      : {solver.wall_time} s\")\n",
        "    print(f\"  - solutions found: {solution_printer.solutionCount()}\")\n",
        "\n",
        "\n",
        "if __name__ == \"__main__\":\n",
        "    main()"
      ]
    }
  ],
  "metadata": {
    "kernelspec": {
      "display_name": "timefold",
      "language": "python",
      "name": "python3"
    },
    "language_info": {
      "codemirror_mode": {
        "name": "ipython",
        "version": 3
      },
      "file_extension": ".py",
      "mimetype": "text/x-python",
      "name": "python",
      "nbconvert_exporter": "python",
      "pygments_lexer": "ipython3",
      "version": "3.12.2"
    },
    "colab": {
      "provenance": [],
      "include_colab_link": true
    }
  },
  "nbformat": 4,
  "nbformat_minor": 0
}