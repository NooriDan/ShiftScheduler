{
 "cells": [
  {
   "cell_type": "markdown",
   "metadata": {},
   "source": [
    "# TA Scheduling"
   ]
  },
  {
   "cell_type": "markdown",
   "metadata": {},
   "source": [
    "## Naive Programming"
   ]
  },
  {
   "cell_type": "code",
   "execution_count": null,
   "metadata": {},
   "outputs": [],
   "source": [
    "from ortools.sat.python import cp_model\n",
    "\n",
    "def schedule_tas(availability, ta_requirements, shift_requirements):\n",
    "    \"\"\"\n",
    "    Schedule TAs for shifts based on availability and constraints.\n",
    "    \n",
    "    Args:\n",
    "        availability: A 2D list where availability[i][j] is:\n",
    "                      - 1: Desired\n",
    "                      - 0: Undesired\n",
    "                      - -1: Unavailable\n",
    "        ta_requirements: A list where ta_requirements[i] is the number of shifts TA i must work.\n",
    "        shift_requirements: A list where shift_requirements[j] is the number of TAs needed for shift j.\n",
    "\n",
    "    Returns:\n",
    "        A dictionary mapping TA indices to their assigned shifts.\n",
    "    \"\"\"\n",
    "    num_tas = len(availability)\n",
    "    num_shifts = len(availability[0])\n",
    "    \n",
    "    # Create the CP-SAT model\n",
    "    model = cp_model.CpModel()\n",
    "    \n",
    "    # Decision variables: x[i][j] is 1 if TA i is assigned to shift j, else 0\n",
    "    x = {}\n",
    "    for i in range(num_tas):\n",
    "        for j in range(num_shifts):\n",
    "            x[i, j] = model.NewBoolVar(f'x[{i}][{j}]')\n",
    "    \n",
    "    # Constraint: TAs must meet their shift requirements\n",
    "    for i in range(num_tas):\n",
    "        model.Add(sum(x[i, j] for j in range(num_shifts)) == ta_requirements[i])\n",
    "    \n",
    "    # Constraint: Shifts must meet staffing requirements\n",
    "    for j in range(num_shifts):\n",
    "        model.Add(sum(x[i, j] for i in range(num_tas)) == shift_requirements[j])\n",
    "    \n",
    "    # Constraint: Respect TA availability\n",
    "    for i in range(num_tas):\n",
    "        for j in range(num_shifts):\n",
    "            if availability[i][j] == -1:  # Unavailable\n",
    "                model.Add(x[i, j] == 0)\n",
    "    \n",
    "    # Objective: Maximize TA satisfaction\n",
    "    objective_terms = []\n",
    "    for i in range(num_tas):\n",
    "        for j in range(num_shifts):\n",
    "            if availability[i][j] == 1:  # Desired\n",
    "                objective_terms.append(10 * x[i, j])  # High weight for desired\n",
    "            elif availability[i][j] == 0:  # Undesired\n",
    "                objective_terms.append(-1 * x[i, j])  # Low weight for undesired\n",
    "    model.Maximize(sum(objective_terms))\n",
    "    \n",
    "    # Solve the model\n",
    "    solver = cp_model.CpSolver()\n",
    "    status = solver.Solve(model)\n",
    "    \n",
    "    # Extract the solution\n",
    "    if status == cp_model.OPTIMAL or status == cp_model.FEASIBLE:\n",
    "        schedule = {}\n",
    "        for i in range(num_tas):\n",
    "            schedule[i] = [j for j in range(num_shifts) if solver.Value(x[i, j]) == 1]\n",
    "        return schedule\n",
    "    else:\n",
    "        return None\n",
    "\n",
    "# Example Input\n",
    "availability = [\n",
    "    [1, 0, -1, 1, 1],   # TA 0: Desired, Undesired, Unavailable, Desired, Desired\n",
    "    [1, 1, 0, -1, 1],   # TA 1: Desired, Desired, Undesired, Unavailable, Desired\n",
    "    [-1, 1, 1, 0, 1],   # TA 2: Unavailable, Desired, Desired, Undesired, Desired\n",
    "]\n",
    "ta_requirements = [2, 3, 2]  # TA 0: 2 shifts, TA 1: 1 shift, TA 2: 2 shifts\n",
    "shift_requirements = [2, 1, 1, 1, 2]  # Shifts: 2 TAs, 1 TA, 1 TA, 1 TA, 2 TAs\n",
    "\n",
    "# Solve\n",
    "solution = schedule_tas(availability, ta_requirements, shift_requirements)\n",
    "if solution:\n",
    "    for ta, shifts in solution.items():\n",
    "        print(f\"TA {ta} assigned to shifts: {shifts}\")\n",
    "else:\n",
    "    print(\"No feasible solution found.\")\n"
   ]
  },
  {
   "cell_type": "code",
   "execution_count": null,
   "metadata": {},
   "outputs": [],
   "source": [
    "from ortools.sat.python import cp_model\n",
    "\n",
    "def schedule_tas_debug(availability, ta_requirements, shift_requirements):\n",
    "    num_tas = len(availability)\n",
    "    num_shifts = len(availability[0])\n",
    "    \n",
    "    print(\"Availability Matrix:\")\n",
    "    for i in range(num_tas):\n",
    "        print(f\"TA {i}: {availability[i]}\")\n",
    "    \n",
    "    print(\"\\nTA Requirements:\", ta_requirements)\n",
    "    print(\"Shift Requirements:\", shift_requirements)\n",
    "    \n",
    "    # Create the CP-SAT model\n",
    "    model = cp_model.CpModel()\n",
    "    \n",
    "    # Decision variables: x[i][j] is 1 if TA i is assigned to shift j, else 0\n",
    "    x = {}\n",
    "    for i in range(num_tas):\n",
    "        for j in range(num_shifts):\n",
    "            x[i, j] = model.NewBoolVar(f'x[{i}][{j}]')\n",
    "    \n",
    "    # Constraint: TAs must meet their shift requirements\n",
    "    for i in range(num_tas):\n",
    "        model.Add(sum(x[i, j] for j in range(num_shifts)) == ta_requirements[i])\n",
    "        print(f\"Added TA {i} shift requirement: {ta_requirements[i]}\")\n",
    "    \n",
    "    # Constraint: Shifts must meet staffing requirements\n",
    "    for j in range(num_shifts):\n",
    "        model.Add(sum(x[i, j] for i in range(num_tas)) == shift_requirements[j])\n",
    "        print(f\"Added shift {j} staffing requirement: {shift_requirements[j]}\")\n",
    "    \n",
    "    # Constraint: Respect TA availability\n",
    "    for i in range(num_tas):\n",
    "        for j in range(num_shifts):\n",
    "            if availability[i][j] == -1:  # Unavailable\n",
    "                model.Add(x[i, j] == 0)\n",
    "                print(f\"TA {i} cannot work shift {j}\")\n",
    "    \n",
    "    # Objective: Maximize TA satisfaction\n",
    "    objective_terms = []\n",
    "    for i in range(num_tas):\n",
    "        for j in range(num_shifts):\n",
    "            if availability[i][j] == 1:  # Desired\n",
    "                objective_terms.append(10 * x[i, j])  # High weight for desired\n",
    "            elif availability[i][j] == 0:  # Undesired\n",
    "                objective_terms.append(-1 * x[i, j])  # Low weight for undesired\n",
    "    model.Maximize(sum(objective_terms))\n",
    "    \n",
    "    # Solve the model\n",
    "    solver = cp_model.CpSolver()\n",
    "    status = solver.Solve(model)\n",
    "    \n",
    "    # Extract the solution\n",
    "    if status == cp_model.OPTIMAL or status == cp_model.FEASIBLE:\n",
    "        schedule = {}\n",
    "        for i in range(num_tas):\n",
    "            schedule[i] = [j for j in range(num_shifts) if solver.Value(x[i, j]) == 1]\n",
    "        return schedule\n",
    "    else:\n",
    "        print(\"\\nNo feasible solution found. Possible reasons:\")\n",
    "        print(\"- Check if total TA shift requirements match total shift needs.\")\n",
    "        print(\"- Ensure there are enough available TAs for each shift.\")\n",
    "        print(\"- Check if constraints are overly strict.\")\n",
    "        return None\n",
    "\n",
    "# Example Input\n",
    "availability = [\n",
    "    [1, 0, -1, 1, 1],   # TA 0: Desired, Undesired, Unavailable, Desired, Desired\n",
    "    [1, 1, 0, -1, 1],   # TA 1: Desired, Desired, Undesired, Unavailable, Desired\n",
    "    [-1, 1, 1, 0, 1],   # TA 2: Unavailable, Desired, Desired, Undesired, Desired\n",
    "]\n",
    "ta_requirements = [2, 3, 2]  # TA 0: 2 shifts, TA 1: 1 shift, TA 2: 2 shifts\n",
    "shift_requirements = [2, 1, 1, 1, 2]  # Shifts: 2 TAs, 1 TA, 1 TA, 1 TA, 2 TAs\n",
    "\n",
    "# Solve\n",
    "solution = schedule_tas_debug(availability, ta_requirements, shift_requirements)\n",
    "if solution:\n",
    "    print(\"\\nFeasible Solution:\")\n",
    "    for ta, shifts in solution.items():\n",
    "        print(f\"TA {ta} assigned to shifts: {shifts}\")\n",
    "else:\n",
    "    print(\"No feasible solution found.\")\n"
   ]
  },
  {
   "cell_type": "markdown",
   "metadata": {},
   "source": [
    "## Class-based Implementation"
   ]
  },
  {
   "cell_type": "code",
   "execution_count": null,
   "metadata": {},
   "outputs": [],
   "source": [
    "# TODO"
   ]
  },
  {
   "cell_type": "markdown",
   "metadata": {},
   "source": [
    "# General Optimization Practice"
   ]
  },
  {
   "cell_type": "markdown",
   "metadata": {},
   "source": [
    "## CP-SAT - Nurse Scheduling"
   ]
  },
  {
   "cell_type": "code",
   "execution_count": 2,
   "metadata": {},
   "outputs": [],
   "source": [
    "from ortools.sat.python import cp_model"
   ]
  },
  {
   "cell_type": "markdown",
   "metadata": {},
   "source": [
    "### Data Creation"
   ]
  },
  {
   "cell_type": "code",
   "execution_count": null,
   "metadata": {},
   "outputs": [],
   "source": [
    "num_nurses = 4\n",
    "num_shifts = 3\n",
    "num_days = 3\n",
    "all_nurses = range(num_nurses)\n",
    "all_shifts = range(num_shifts)\n",
    "all_days = range(num_days)"
   ]
  },
  {
   "cell_type": "markdown",
   "metadata": {},
   "source": [
    "### Create the model"
   ]
  },
  {
   "cell_type": "code",
   "execution_count": null,
   "metadata": {},
   "outputs": [],
   "source": [
    "model = cp_model.CpModel()"
   ]
  },
  {
   "cell_type": "markdown",
   "metadata": {},
   "source": [
    "### Create the variables\n",
    "The array defines assignments for shifts to nurses as follows: shifts[(n, d, s)] equals 1 if shift s is assigned to nurse n on day d, and 0 otherwise."
   ]
  },
  {
   "cell_type": "code",
   "execution_count": null,
   "metadata": {},
   "outputs": [],
   "source": [
    "shifts = {}\n",
    "for n in all_nurses:\n",
    "    for d in all_days:\n",
    "        for s in all_shifts:\n",
    "            shifts[(n, d, s)] = model.new_bool_var(f\"shift_n{n}_d{d}_s{s}\")"
   ]
  },
  {
   "cell_type": "markdown",
   "metadata": {},
   "source": [
    "### Code the constraints\n",
    "Next, we show how to assign nurses to shifts subject to the following constraints:\n",
    "\n",
    "Each shift is assigned to a single nurse per day.\n",
    "Each nurse works at most one shift per day.\n",
    "\n",
    "Here's the code that creates the first condition"
   ]
  },
  {
   "cell_type": "code",
   "execution_count": null,
   "metadata": {},
   "outputs": [],
   "source": [
    "for d in all_days:\n",
    "    for s in all_shifts:\n",
    "        model.add_exactly_one(shifts[(n, d, s)] for n in all_nurses)"
   ]
  },
  {
   "cell_type": "markdown",
   "metadata": {},
   "source": [
    "The last line says that for each shift, the sum of the nurses assigned to that shift is 1.\n",
    "\n",
    "Next, here's the code that requires that each nurse works at most one shift per day."
   ]
  },
  {
   "cell_type": "code",
   "execution_count": null,
   "metadata": {},
   "outputs": [],
   "source": [
    "for n in all_nurses:\n",
    "    for d in all_days:\n",
    "        model.add_at_most_one(shifts[(n, d, s)] for s in all_shifts)"
   ]
  },
  {
   "cell_type": "markdown",
   "metadata": {},
   "source": [
    "For each nurse, the sum of shifts assigned to that nurse is at most 1 (\"at most\" because a nurse might have the day off)."
   ]
  },
  {
   "cell_type": "markdown",
   "metadata": {},
   "source": [
    "**Assign shifts evenly**"
   ]
  },
  {
   "cell_type": "code",
   "execution_count": null,
   "metadata": {},
   "outputs": [],
   "source": [
    "# Try to distribute the shifts evenly, so that each nurse works\n",
    "# min_shifts_per_nurse shifts. If this is not possible, because the total\n",
    "# number of shifts is not divisible by the number of nurses, some nurses will\n",
    "# be assigned one more shift.\n",
    "min_shifts_per_nurse = (num_shifts * num_days) // num_nurses\n",
    "if num_shifts * num_days % num_nurses == 0:\n",
    "    max_shifts_per_nurse = min_shifts_per_nurse\n",
    "else:\n",
    "    max_shifts_per_nurse = min_shifts_per_nurse + 1\n",
    "for n in all_nurses:\n",
    "    shifts_worked = []\n",
    "    for d in all_days:\n",
    "        for s in all_shifts:\n",
    "            shifts_worked.append(shifts[(n, d, s)])\n",
    "    model.add(min_shifts_per_nurse <= sum(shifts_worked))\n",
    "    model.add(sum(shifts_worked) <= max_shifts_per_nurse)"
   ]
  },
  {
   "cell_type": "markdown",
   "metadata": {},
   "source": [
    "Since there are num_shifts * num_days total shifts in the schedule period, you can assign at least (num_shifts * num_days) // num_nurses\n",
    "\n",
    "shifts to each nurse, but some shifts may be left over. (Here // is the Python integer division operator, which returns the floor of the usual quotient.)\n",
    "\n",
    "For the given values of num_nurses = 4, num_shifts = 3, and num_days = 3, the expression min_shifts_per_nurse has the value (3 * 3 // 4) = 2, so you can assign at least two shifts to each nurse. This is specified by the constraint (here in Python)"
   ]
  },
  {
   "cell_type": "code",
   "execution_count": null,
   "metadata": {},
   "outputs": [],
   "source": [
    "model.add(min_shifts_per_nurse <= sum(shifts_worked))"
   ]
  },
  {
   "cell_type": "markdown",
   "metadata": {},
   "source": [
    "Since there are nine total shifts over the three-day period, there is one remaining shift after assigning two shifts to each nurse. The extra shift can be assigned to any nurse.\n",
    "\n",
    "The final line (here in Python)"
   ]
  },
  {
   "cell_type": "code",
   "execution_count": null,
   "metadata": {},
   "outputs": [],
   "source": [
    "model.add(sum(shifts_worked) <= max_shifts_per_nurse)"
   ]
  },
  {
   "cell_type": "markdown",
   "metadata": {},
   "source": [
    "### Update solver parameters"
   ]
  },
  {
   "cell_type": "code",
   "execution_count": null,
   "metadata": {},
   "outputs": [],
   "source": [
    "solver = cp_model.CpSolver()\n",
    "solver.parameters.linearization_level = 0\n",
    "# Enumerate all solutions.\n",
    "solver.parameters.enumerate_all_solutions = True"
   ]
  },
  {
   "cell_type": "markdown",
   "metadata": {},
   "source": [
    "### Register a callback function\n",
    "You need to register a callback on the solver that will be called at each solution. (kind of optional)"
   ]
  },
  {
   "cell_type": "code",
   "execution_count": null,
   "metadata": {},
   "outputs": [],
   "source": [
    "class NursesPartialSolutionPrinter(cp_model.CpSolverSolutionCallback):\n",
    "    \"\"\"Print intermediate solutions.\"\"\"\n",
    "\n",
    "    def __init__(self, shifts, num_nurses, num_days, num_shifts, limit):\n",
    "        cp_model.CpSolverSolutionCallback.__init__(self)\n",
    "        self._shifts = shifts\n",
    "        self._num_nurses = num_nurses\n",
    "        self._num_days = num_days\n",
    "        self._num_shifts = num_shifts\n",
    "        self._solution_count = 0\n",
    "        self._solution_limit = limit\n",
    "\n",
    "    def on_solution_callback(self):\n",
    "        self._solution_count += 1\n",
    "        print(f\"Solution {self._solution_count}\")\n",
    "        for d in range(self._num_days):\n",
    "            print(f\"Day {d}\")\n",
    "            for n in range(self._num_nurses):\n",
    "                is_working = False\n",
    "                for s in range(self._num_shifts):\n",
    "                    if self.value(self._shifts[(n, d, s)]):\n",
    "                        is_working = True\n",
    "                        print(f\"  Nurse {n} works shift {s}\")\n",
    "                if not is_working:\n",
    "                    print(f\"  Nurse {n} does not work\")\n",
    "        if self._solution_count >= self._solution_limit:\n",
    "            print(f\"Stop search after {self._solution_limit} solutions\")\n",
    "            self.stop_search()\n",
    "\n",
    "    def solutionCount(self):\n",
    "        return self._solution_count\n",
    "\n",
    "# Display the first five solutions.\n",
    "solution_limit = 5\n",
    "solution_printer = NursesPartialSolutionPrinter(\n",
    "    shifts, num_nurses, num_days, num_shifts, solution_limit\n",
    ")"
   ]
  },
  {
   "cell_type": "markdown",
   "metadata": {},
   "source": [
    "### Invoke the solver"
   ]
  },
  {
   "cell_type": "code",
   "execution_count": null,
   "metadata": {},
   "outputs": [],
   "source": [
    "solver.solve(model, solution_printer)"
   ]
  },
  {
   "cell_type": "markdown",
   "metadata": {},
   "source": [
    "### Entire nurse scheduling program "
   ]
  },
  {
   "cell_type": "code",
   "execution_count": 3,
   "metadata": {},
   "outputs": [
    {
     "name": "stdout",
     "output_type": "stream",
     "text": [
      "Solution 1\n",
      "Day 0\n",
      "  Nurse 0 does not work\n",
      "  Nurse 1 works shift 0\n",
      "  Nurse 2 works shift 1\n",
      "  Nurse 3 works shift 2\n",
      "Day 1\n",
      "  Nurse 0 works shift 2\n",
      "  Nurse 1 does not work\n",
      "  Nurse 2 works shift 1\n",
      "  Nurse 3 works shift 0\n",
      "Day 2\n",
      "  Nurse 0 works shift 2\n",
      "  Nurse 1 works shift 1\n",
      "  Nurse 2 works shift 0\n",
      "  Nurse 3 does not work\n",
      "Solution 2\n",
      "Day 0\n",
      "  Nurse 0 works shift 0\n",
      "  Nurse 1 does not work\n",
      "  Nurse 2 works shift 1\n",
      "  Nurse 3 works shift 2\n",
      "Day 1\n",
      "  Nurse 0 does not work\n",
      "  Nurse 1 works shift 2\n",
      "  Nurse 2 works shift 1\n",
      "  Nurse 3 works shift 0\n",
      "Day 2\n",
      "  Nurse 0 works shift 2\n",
      "  Nurse 1 works shift 1\n",
      "  Nurse 2 works shift 0\n",
      "  Nurse 3 does not work\n",
      "Solution 3\n",
      "Day 0\n",
      "  Nurse 0 works shift 0\n",
      "  Nurse 1 does not work\n",
      "  Nurse 2 works shift 1\n",
      "  Nurse 3 works shift 2\n",
      "Day 1\n",
      "  Nurse 0 works shift 1\n",
      "  Nurse 1 works shift 2\n",
      "  Nurse 2 does not work\n",
      "  Nurse 3 works shift 0\n",
      "Day 2\n",
      "  Nurse 0 works shift 2\n",
      "  Nurse 1 works shift 1\n",
      "  Nurse 2 works shift 0\n",
      "  Nurse 3 does not work\n",
      "Solution 4\n",
      "Day 0\n",
      "  Nurse 0 works shift 0\n",
      "  Nurse 1 does not work\n",
      "  Nurse 2 works shift 1\n",
      "  Nurse 3 works shift 2\n",
      "Day 1\n",
      "  Nurse 0 works shift 2\n",
      "  Nurse 1 works shift 1\n",
      "  Nurse 2 does not work\n",
      "  Nurse 3 works shift 0\n",
      "Day 2\n",
      "  Nurse 0 works shift 2\n",
      "  Nurse 1 works shift 1\n",
      "  Nurse 2 works shift 0\n",
      "  Nurse 3 does not work\n",
      "Solution 5\n",
      "Day 0\n",
      "  Nurse 0 does not work\n",
      "  Nurse 1 works shift 0\n",
      "  Nurse 2 works shift 1\n",
      "  Nurse 3 works shift 2\n",
      "Day 1\n",
      "  Nurse 0 works shift 2\n",
      "  Nurse 1 works shift 1\n",
      "  Nurse 2 does not work\n",
      "  Nurse 3 works shift 0\n",
      "Day 2\n",
      "  Nurse 0 works shift 2\n",
      "  Nurse 1 works shift 1\n",
      "  Nurse 2 works shift 0\n",
      "  Nurse 3 does not work\n",
      "Stop search after 5 solutions\n",
      "\n",
      "Statistics\n",
      "  - conflicts      : 5\n",
      "  - branches       : 358\n",
      "  - wall time      : 0.018274000000000002 s\n",
      "  - solutions found: 5\n"
     ]
    }
   ],
   "source": [
    "\"\"\"Example of a simple nurse scheduling problem.\"\"\"\n",
    "from ortools.sat.python import cp_model\n",
    "\n",
    "\n",
    "def main() -> None:\n",
    "    # Data.\n",
    "    num_nurses = 4\n",
    "    num_shifts = 3\n",
    "    num_days = 3\n",
    "    all_nurses = range(num_nurses)\n",
    "    all_shifts = range(num_shifts)\n",
    "    all_days = range(num_days)\n",
    "\n",
    "    # Creates the model.\n",
    "    model = cp_model.CpModel()\n",
    "\n",
    "    # Creates shift variables.\n",
    "    # shifts[(n, d, s)]: nurse 'n' works shift 's' on day 'd'.\n",
    "    shifts = {}\n",
    "    for n in all_nurses:\n",
    "        for d in all_days:\n",
    "            for s in all_shifts:\n",
    "                shifts[(n, d, s)] = model.new_bool_var(f\"shift_n{n}_d{d}_s{s}\")\n",
    "\n",
    "    # Each shift is assigned to exactly one nurse in the schedule period.\n",
    "    for d in all_days:\n",
    "        for s in all_shifts:\n",
    "            model.add_exactly_one(shifts[(n, d, s)] for n in all_nurses)\n",
    "\n",
    "    # Each nurse works at most one shift per day.\n",
    "    for n in all_nurses:\n",
    "        for d in all_days:\n",
    "            model.add_at_most_one(shifts[(n, d, s)] for s in all_shifts)\n",
    "\n",
    "    # Try to distribute the shifts evenly, so that each nurse works\n",
    "    # min_shifts_per_nurse shifts. If this is not possible, because the total\n",
    "    # number of shifts is not divisible by the number of nurses, some nurses will\n",
    "    # be assigned one more shift.\n",
    "    min_shifts_per_nurse = (num_shifts * num_days) // num_nurses\n",
    "    if num_shifts * num_days % num_nurses == 0:\n",
    "        max_shifts_per_nurse = min_shifts_per_nurse\n",
    "    else:\n",
    "        max_shifts_per_nurse = min_shifts_per_nurse + 1\n",
    "    for n in all_nurses:\n",
    "        shifts_worked = []\n",
    "        for d in all_days:\n",
    "            for s in all_shifts:\n",
    "                shifts_worked.append(shifts[(n, d, s)])\n",
    "        model.add(min_shifts_per_nurse <= sum(shifts_worked))\n",
    "        model.add(sum(shifts_worked) <= max_shifts_per_nurse)\n",
    "\n",
    "    # Creates the solver and solve.\n",
    "    solver = cp_model.CpSolver()\n",
    "    solver.parameters.linearization_level = 0\n",
    "    # Enumerate all solutions.\n",
    "    solver.parameters.enumerate_all_solutions = True\n",
    "\n",
    "    class NursesPartialSolutionPrinter(cp_model.CpSolverSolutionCallback):\n",
    "        \"\"\"Print intermediate solutions.\"\"\"\n",
    "\n",
    "        def __init__(self, shifts, num_nurses, num_days, num_shifts, limit):\n",
    "            cp_model.CpSolverSolutionCallback.__init__(self)\n",
    "            self._shifts = shifts\n",
    "            self._num_nurses = num_nurses\n",
    "            self._num_days = num_days\n",
    "            self._num_shifts = num_shifts\n",
    "            self._solution_count = 0\n",
    "            self._solution_limit = limit\n",
    "\n",
    "        def on_solution_callback(self):\n",
    "            self._solution_count += 1\n",
    "            print(f\"Solution {self._solution_count}\")\n",
    "            for d in range(self._num_days):\n",
    "                print(f\"Day {d}\")\n",
    "                for n in range(self._num_nurses):\n",
    "                    is_working = False\n",
    "                    for s in range(self._num_shifts):\n",
    "                        if self.value(self._shifts[(n, d, s)]):\n",
    "                            is_working = True\n",
    "                            print(f\"  Nurse {n} works shift {s}\")\n",
    "                    if not is_working:\n",
    "                        print(f\"  Nurse {n} does not work\")\n",
    "            if self._solution_count >= self._solution_limit:\n",
    "                print(f\"Stop search after {self._solution_limit} solutions\")\n",
    "                self.stop_search()\n",
    "\n",
    "        def solutionCount(self):\n",
    "            return self._solution_count\n",
    "\n",
    "    # Display the first five solutions.\n",
    "    solution_limit = 5\n",
    "    solution_printer = NursesPartialSolutionPrinter(\n",
    "        shifts, num_nurses, num_days, num_shifts, solution_limit\n",
    "    )\n",
    "\n",
    "    solver.solve(model, solution_printer)\n",
    "\n",
    "    # Statistics.\n",
    "    print(\"\\nStatistics\")\n",
    "    print(f\"  - conflicts      : {solver.num_conflicts}\")\n",
    "    print(f\"  - branches       : {solver.num_branches}\")\n",
    "    print(f\"  - wall time      : {solver.wall_time} s\")\n",
    "    print(f\"  - solutions found: {solution_printer.solutionCount()}\")\n",
    "\n",
    "\n",
    "if __name__ == \"__main__\":\n",
    "    main()"
   ]
  }
 ],
 "metadata": {
  "kernelspec": {
   "display_name": "timefold",
   "language": "python",
   "name": "python3"
  },
  "language_info": {
   "codemirror_mode": {
    "name": "ipython",
    "version": 3
   },
   "file_extension": ".py",
   "mimetype": "text/x-python",
   "name": "python",
   "nbconvert_exporter": "python",
   "pygments_lexer": "ipython3",
   "version": "3.12.2"
  }
 },
 "nbformat": 4,
 "nbformat_minor": 2
}
