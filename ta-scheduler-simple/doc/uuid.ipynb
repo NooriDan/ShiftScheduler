{
 "cells": [
  {
   "cell_type": "code",
   "execution_count": 59,
   "metadata": {},
   "outputs": [
    {
     "name": "stdout",
     "output_type": "stream",
     "text": [
      "b6fb9292-ba9a-11ef-9659-2a2e0886ceb5\n"
     ]
    }
   ],
   "source": [
    "import uuid\n",
    "\n",
    "# Time-based\n",
    "uuid1 = uuid.uuid1()\n",
    "print(uuid1)\n"
   ]
  },
  {
   "cell_type": "code",
   "execution_count": 51,
   "metadata": {},
   "outputs": [
    {
     "name": "stdout",
     "output_type": "stream",
     "text": [
      "namespace: 6ba7b810-9dad-11d1-80b4-00c04fd430c8, uuid: 9073926b-929f-31c2-abc9-fad77ae3e8eb\n"
     ]
    }
   ],
   "source": [
    "namespace = uuid.NAMESPACE_DNS\n",
    "name = 'example.com'\n",
    "uuid3 = uuid.uuid3(namespace, name)\n",
    "print(f\"namespace: {namespace}, uuid: {uuid3}\")\n"
   ]
  },
  {
   "cell_type": "code",
   "execution_count": 55,
   "metadata": {},
   "outputs": [
    {
     "name": "stdout",
     "output_type": "stream",
     "text": [
      "c236d318-4cef-4aa0-be52-f2d241ff714c\n"
     ]
    }
   ],
   "source": [
    "uuid4 = uuid.uuid4()\n",
    "print(uuid4)\n"
   ]
  },
  {
   "cell_type": "code",
   "execution_count": 92,
   "metadata": {},
   "outputs": [
    {
     "data": {
      "text/plain": [
       "b'\\xb6\\xfb\\x92\\x92\\xba\\x9a\\x11\\xef\\x96Y*.\\x08\\x86\\xce\\xb5'"
      ]
     },
     "execution_count": 92,
     "metadata": {},
     "output_type": "execute_result"
    }
   ],
   "source": [
    "import datetime \n",
    "\n",
    "(uuid1.bytes)\n"
   ]
  },
  {
   "cell_type": "code",
   "execution_count": 60,
   "metadata": {},
   "outputs": [
    {
     "data": {
      "text/plain": [
       "46377199914677"
      ]
     },
     "execution_count": 60,
     "metadata": {},
     "output_type": "execute_result"
    }
   ],
   "source": [
    "uuid.getnode()"
   ]
  },
  {
   "cell_type": "code",
   "execution_count": 101,
   "metadata": {},
   "outputs": [
    {
     "name": "stdout",
     "output_type": "stream",
     "text": [
      "Generated user ID: 8779d38e-608c-4e94-aff7-9e9706ba65be\n",
      "UUID for example.com: cfbff0d1-9375-5685-968c-48ce8b15ae17\n"
     ]
    }
   ],
   "source": [
    "import uuid\n",
    "\n",
    "# Generate a random UUID (version 4)\n",
    "user_id = uuid.uuid4()\n",
    "print(f\"Generated user ID: {user_id}\")\n",
    "\n",
    "# Generate a UUID for a specific domain name (version 5)\n",
    "domain_uuid = uuid.uuid5(uuid.NAMESPACE_DNS, \"example.com\")\n",
    "print(f\"UUID for example.com: {domain_uuid}\")\n"
   ]
  }
 ],
 "metadata": {
  "kernelspec": {
   "display_name": "timefold",
   "language": "python",
   "name": "python3"
  },
  "language_info": {
   "codemirror_mode": {
    "name": "ipython",
    "version": 3
   },
   "file_extension": ".py",
   "mimetype": "text/x-python",
   "name": "python",
   "nbconvert_exporter": "python",
   "pygments_lexer": "ipython3",
   "version": "3.12.2"
  }
 },
 "nbformat": 4,
 "nbformat_minor": 2
}
