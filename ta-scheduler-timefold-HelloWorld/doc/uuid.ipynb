{
 "cells": [
  {
   "cell_type": "code",
   "execution_count": 59,
   "metadata": {},
   "outputs": [
    {
     "name": "stdout",
     "output_type": "stream",
     "text": [
      "b6fb9292-ba9a-11ef-9659-2a2e0886ceb5\n"
     ]
    }
   ],
   "source": [
    "import uuid\n",
    "\n",
    "# Time-based\n",
    "uuid1 = uuid.uuid1()\n",
    "print(uuid1)\n"
   ]
  },
  {
   "cell_type": "code",
   "execution_count": 51,
   "metadata": {},
   "outputs": [
    {
     "name": "stdout",
     "output_type": "stream",
     "text": [
      "namespace: 6ba7b810-9dad-11d1-80b4-00c04fd430c8, uuid: 9073926b-929f-31c2-abc9-fad77ae3e8eb\n"
     ]
    }
   ],
   "source": [
    "namespace = uuid.NAMESPACE_DNS\n",
    "name = 'example.com'\n",
    "uuid3 = uuid.uuid3(namespace, name)\n",
    "print(f\"namespace: {namespace}, uuid: {uuid3}\")\n"
   ]
  },
  {
   "cell_type": "code",
   "execution_count": 55,
   "metadata": {},
   "outputs": [
    {
     "name": "stdout",
     "output_type": "stream",
     "text": [
      "c236d318-4cef-4aa0-be52-f2d241ff714c\n"
     ]
    }
   ],
   "source": [
    "uuid4 = uuid.uuid4()\n",
    "print(uuid4)\n"
   ]
  },
  {
   "cell_type": "code",
   "execution_count": 74,
   "metadata": {},
   "outputs": [
    {
     "data": {
      "text/plain": [
       "89"
      ]
     },
     "execution_count": 74,
     "metadata": {},
     "output_type": "execute_result"
    }
   ],
   "source": [
    "uuid1.clock_seq_low"
   ]
  },
  {
   "cell_type": "code",
   "execution_count": 60,
   "metadata": {},
   "outputs": [
    {
     "data": {
      "text/plain": [
       "46377199914677"
      ]
     },
     "execution_count": 60,
     "metadata": {},
     "output_type": "execute_result"
    }
   ],
   "source": [
    "uuid.getnode()"
   ]
  }
 ],
 "metadata": {
  "kernelspec": {
   "display_name": "timefold",
   "language": "python",
   "name": "python3"
  },
  "language_info": {
   "codemirror_mode": {
    "name": "ipython",
    "version": 3
   },
   "file_extension": ".py",
   "mimetype": "text/x-python",
   "name": "python",
   "nbconvert_exporter": "python",
   "pygments_lexer": "ipython3",
   "version": "3.12.2"
  }
 },
 "nbformat": 4,
 "nbformat_minor": 2
}
