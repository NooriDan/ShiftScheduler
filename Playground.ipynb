{
 "cells": [
  {
   "cell_type": "code",
   "execution_count": 3,
   "metadata": {},
   "outputs": [
    {
     "name": "stdout",
     "output_type": "stream",
     "text": [
      "Collecting optapy\n",
      "  Using cached optapy-9.37.0b0-py3-none-any.whl.metadata (8.8 kB)\n",
      "Collecting JPype1>=1.4.1 (from optapy)\n",
      "  Using cached jpype1-1.5.1-cp312-cp312-macosx_10_9_universal2.whl.metadata (4.9 kB)\n",
      "Requirement already satisfied: packaging in /Users/danialnoorizadeh/.pyenv/versions/timefold/lib/python3.12/site-packages (from JPype1>=1.4.1->optapy) (24.2)\n",
      "Using cached optapy-9.37.0b0-py3-none-any.whl (26.2 MB)\n",
      "Using cached jpype1-1.5.1-cp312-cp312-macosx_10_9_universal2.whl (583 kB)\n",
      "Installing collected packages: JPype1, optapy\n",
      "Successfully installed JPype1-1.5.1 optapy-9.37.0b0\n"
     ]
    }
   ],
   "source": [
    "!pip install optapy\n"
   ]
  },
  {
   "cell_type": "code",
   "execution_count": null,
   "metadata": {},
   "outputs": [],
   "source": [
    "import optapy\n",
    "import pandas as pd"
   ]
  },
  {
   "cell_type": "code",
   "execution_count": null,
   "metadata": {},
   "outputs": [],
   "source": []
  }
 ],
 "metadata": {
  "kernelspec": {
   "display_name": "timefold",
   "language": "python",
   "name": "python3"
  },
  "language_info": {
   "codemirror_mode": {
    "name": "ipython",
    "version": 3
   },
   "file_extension": ".py",
   "mimetype": "text/x-python",
   "name": "python",
   "nbconvert_exporter": "python",
   "pygments_lexer": "ipython3",
   "version": "3.12.2"
  }
 },
 "nbformat": 4,
 "nbformat_minor": 2
}
