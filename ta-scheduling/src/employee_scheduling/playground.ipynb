{
 "cells": [
  {
   "cell_type": "code",
   "execution_count": 13,
   "metadata": {},
   "outputs": [
    {
     "name": "stdout",
     "output_type": "stream",
     "text": [
      "../../data/Forms/employeeAvailabilityForm_Template.xlsx\n"
     ]
    }
   ],
   "source": [
    "from pathlib import Path\n",
    "\n",
    "def find_xlsx_files(directory):\n",
    "    path = Path(directory)\n",
    "    return [str(file) for file in path.glob(\"*.xlsx\") if not file.name.startswith('~$')]  # Exclude files starting with ~$ and no recursive search\n",
    "\n",
    "# Example usage:\n",
    "directory = \"../../data/Forms\"\n",
    "xlsx_files = find_xlsx_files(directory)\n",
    "for file in xlsx_files:\n",
    "    print(file)"
   ]
  },
  {
   "cell_type": "code",
   "execution_count": 14,
   "metadata": {},
   "outputs": [
    {
     "name": "stdout",
     "output_type": "stream",
     "text": [
      "[{'end_time': datetime.time(17, 30),\n",
      "  'friday': 'Unavailable',\n",
      "  'monday': 'Undesired',\n",
      "  'start_time': datetime.time(14, 30),\n",
      "  'thursday': 'Desired',\n",
      "  'tuesday': 'Undesired',\n",
      "  'wednesday': 'Unavailable'},\n",
      " {'end_time': datetime.time(21, 30),\n",
      "  'friday': 'Unavailable',\n",
      "  'monday': 'Desired',\n",
      "  'start_time': datetime.time(18, 30),\n",
      "  'thursday': 'Desired',\n",
      "  'tuesday': 'Desired',\n",
      "  'wednesday': 'Desired'}]\n"
     ]
    }
   ],
   "source": [
    "import openpyxl\n",
    "from datetime import datetime\n",
    "from pprint import pprint\n",
    "\n",
    "def extract_ta_availability(file_path: str):\n",
    "    # Load the workbook and select the sheet\n",
    "    workbook = openpyxl.load_workbook(file_path)\n",
    "    sheet = workbook['TA_Availability']\n",
    "    \n",
    "    # Extracting TA details from the top of the sheet\n",
    "    ta_name = sheet['B2'].value\n",
    "    mac_id = sheet['B3'].value\n",
    "    contract_hours = sheet['B4'].value\n",
    "    ta_type = sheet['B5'].value\n",
    "    \n",
    "    # Extracting the time slots and availability for each day\n",
    "    avialability = []\n",
    "    \n",
    "    for row in sheet.iter_rows(min_row=7, min_col=1, max_col=7, values_only=True):\n",
    "        start_time_str, end_time_str, monday, tuesday, wednesday, thursday, friday = row\n",
    "        \n",
    "        # Converting the start and end times to time objects (ignoring the date)\n",
    "        if isinstance(start_time_str, datetime):\n",
    "            start_time = start_time_str.time()  # If it's already a datetime, extract time\n",
    "        elif start_time_str:\n",
    "            start_time = datetime.strptime(start_time_str, \"%H:%M\").time()\n",
    "        else:\n",
    "            start_time = None\n",
    "        \n",
    "        if isinstance(end_time_str, datetime):\n",
    "            end_time = end_time_str.time()  # If it's already a datetime, extract time\n",
    "        elif end_time_str:\n",
    "            end_time = datetime.strptime(end_time_str, \"%I:%M %p\").time()  # Assuming the format is 6:30 PM\n",
    "        else:\n",
    "            end_time = None\n",
    "        \n",
    "        avialability.append({\n",
    "            \"start_time\": start_time,\n",
    "            \"end_time\": end_time,\n",
    "            \"monday\": monday,\n",
    "            \"tuesday\": tuesday,\n",
    "            \"wednesday\": wednesday,\n",
    "            \"thursday\": thursday,\n",
    "            \"friday\": friday\n",
    "        })\n",
    "    \n",
    "    return {\n",
    "        \"name\": ta_name,\n",
    "        \"mac_id\": mac_id,\n",
    "        \"contract_hours\": contract_hours,\n",
    "        \"type\": ta_type,\n",
    "        \"avialability\": avialability\n",
    "    }\n",
    "\n",
    "# Test the function with the first file in the list\n",
    "extracted = extract_ta_availability(xlsx_files[0])\n",
    "pprint(extracted.get(\"avialability\"))\n"
   ]
  }
 ],
 "metadata": {
  "kernelspec": {
   "display_name": "timefold",
   "language": "python",
   "name": "python3"
  },
  "language_info": {
   "codemirror_mode": {
    "name": "ipython",
    "version": 3
   },
   "file_extension": ".py",
   "mimetype": "text/x-python",
   "name": "python",
   "nbconvert_exporter": "python",
   "pygments_lexer": "ipython3",
   "version": "3.12.2"
  }
 },
 "nbformat": 4,
 "nbformat_minor": 2
}
